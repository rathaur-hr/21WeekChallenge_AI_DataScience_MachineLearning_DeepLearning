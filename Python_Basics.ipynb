{
  "nbformat": 4,
  "nbformat_minor": 0,
  "metadata": {
    "colab": {
      "provenance": [],
      "collapsed_sections": [
        "YokACdux2Kh1",
        "2Ae10lvi2Vw1",
        "l7rQTrduBrf_",
        "NPf2ASIB27GY",
        "96k80n0E5kac",
        "zzjEq9B4Fh2p",
        "wmHbNwIpHFFg",
        "66A_n38YJKTT",
        "3odhYkxiOdTN",
        "PTdgfRtSYkAI"
      ]
    },
    "kernelspec": {
      "name": "python3",
      "display_name": "Python 3"
    },
    "language_info": {
      "name": "python"
    }
  },
  "cells": [
    {
      "cell_type": "markdown",
      "source": [
        "#Print Function"
      ],
      "metadata": {
        "id": "YokACdux2Kh1"
      }
    },
    {
      "cell_type": "code",
      "execution_count": null,
      "metadata": {
        "colab": {
          "base_uri": "https://localhost:8080/"
        },
        "id": "kY5y26ch1F61",
        "outputId": "76352e1c-9b42-4145-edde-6e47100e7bce"
      },
      "outputs": [
        {
          "output_type": "stream",
          "name": "stdout",
          "text": [
            "Hello I'm doing Machine Learning Course\n"
          ]
        }
      ],
      "source": [
        "print(\"Hello I'm doing Machine Learning Course\")"
      ]
    },
    {
      "cell_type": "code",
      "source": [
        "print(\"Machine Learning\"+\" Projects\")"
      ],
      "metadata": {
        "colab": {
          "base_uri": "https://localhost:8080/"
        },
        "id": "Wb6ie41e1arC",
        "outputId": "583d500f-9ba1-4c7c-ce95-ec9ab745496d"
      },
      "execution_count": null,
      "outputs": [
        {
          "output_type": "stream",
          "name": "stdout",
          "text": [
            "Machine Learning Projects\n"
          ]
        }
      ]
    },
    {
      "cell_type": "code",
      "source": [
        "print(51)"
      ],
      "metadata": {
        "colab": {
          "base_uri": "https://localhost:8080/"
        },
        "id": "9U79Fa-E1zfP",
        "outputId": "80f41874-eb60-4c1e-b871-06315a701e17"
      },
      "execution_count": null,
      "outputs": [
        {
          "output_type": "stream",
          "name": "stdout",
          "text": [
            "51\n"
          ]
        }
      ]
    },
    {
      "cell_type": "code",
      "source": [
        "print(type(51))"
      ],
      "metadata": {
        "colab": {
          "base_uri": "https://localhost:8080/"
        },
        "id": "90ENPmGH16bQ",
        "outputId": "d8f62b3b-0eb1-4d85-c2e5-72b944e089fd"
      },
      "execution_count": null,
      "outputs": [
        {
          "output_type": "stream",
          "name": "stdout",
          "text": [
            "<class 'int'>\n"
          ]
        }
      ]
    },
    {
      "cell_type": "code",
      "source": [
        "print(51+20)"
      ],
      "metadata": {
        "colab": {
          "base_uri": "https://localhost:8080/"
        },
        "id": "KA8KNQqL192b",
        "outputId": "d16c28a4-78fe-4f32-bc34-8680cc4c85f2"
      },
      "execution_count": null,
      "outputs": [
        {
          "output_type": "stream",
          "name": "stdout",
          "text": [
            "71\n"
          ]
        }
      ]
    },
    {
      "cell_type": "code",
      "source": [
        "print(type(\"Harshit\"))"
      ],
      "metadata": {
        "colab": {
          "base_uri": "https://localhost:8080/"
        },
        "id": "3Bn3M4BB2AmX",
        "outputId": "e763ecfe-50d2-4a9c-bf5d-58bae6c0f8c2"
      },
      "execution_count": null,
      "outputs": [
        {
          "output_type": "stream",
          "name": "stdout",
          "text": [
            "<class 'str'>\n"
          ]
        }
      ]
    },
    {
      "cell_type": "markdown",
      "source": [
        "#Basic Data Types in Python\n",
        "  1. Integer\n",
        "  2. Floating Point\n",
        "  3. String\n",
        "  4. Boolean\n",
        "  5. Complex\n",
        "  \n"
      ],
      "metadata": {
        "id": "2Ae10lvi2Vw1"
      }
    },
    {
      "cell_type": "code",
      "source": [
        "#Integer\n",
        "\n",
        "num1 = 51\n",
        "print(num1)\n",
        "print(type(num1))"
      ],
      "metadata": {
        "colab": {
          "base_uri": "https://localhost:8080/"
        },
        "id": "QrSDKyPM2ZrA",
        "outputId": "85b0985b-93b0-451a-d5b5-84810704b11b"
      },
      "execution_count": null,
      "outputs": [
        {
          "output_type": "stream",
          "name": "stdout",
          "text": [
            "51\n",
            "<class 'int'>\n"
          ]
        }
      ]
    },
    {
      "cell_type": "code",
      "source": [
        "#Floating Point\n",
        "\n",
        "num2 = 51.20\n",
        "print(num2)\n",
        "print(type(num2))"
      ],
      "metadata": {
        "colab": {
          "base_uri": "https://localhost:8080/"
        },
        "id": "jJzpVkSh2pb8",
        "outputId": "2debaebf-9218-446e-c118-789978105d2c"
      },
      "execution_count": null,
      "outputs": [
        {
          "output_type": "stream",
          "name": "stdout",
          "text": [
            "51.2\n",
            "<class 'float'>\n"
          ]
        }
      ]
    },
    {
      "cell_type": "code",
      "source": [
        "#String\n",
        "\n",
        "Company = \"Wipro\"\n",
        "print(Company)\n",
        "print(type(Company))"
      ],
      "metadata": {
        "colab": {
          "base_uri": "https://localhost:8080/"
        },
        "id": "Ac6yz8WV2s4H",
        "outputId": "914004a4-ec29-4bed-97db-06a78d95baa3"
      },
      "execution_count": null,
      "outputs": [
        {
          "output_type": "stream",
          "name": "stdout",
          "text": [
            "Wipro\n",
            "<class 'str'>\n"
          ]
        }
      ]
    },
    {
      "cell_type": "code",
      "source": [
        "#Complex Number\n",
        "\n",
        "cnum = 5 + 1j\n",
        "print(cnum)\n",
        "print(type(cnum))"
      ],
      "metadata": {
        "colab": {
          "base_uri": "https://localhost:8080/"
        },
        "id": "R8HJ2djA8DbZ",
        "outputId": "faaed158-1e3e-4645-8f9a-40cc27efb92b"
      },
      "execution_count": null,
      "outputs": [
        {
          "output_type": "stream",
          "name": "stdout",
          "text": [
            "(5+1j)\n",
            "<class 'complex'>\n"
          ]
        }
      ]
    },
    {
      "cell_type": "code",
      "source": [
        "#Boolean\n",
        "\n",
        "print(type(True))\n",
        "print(type(False))"
      ],
      "metadata": {
        "colab": {
          "base_uri": "https://localhost:8080/"
        },
        "id": "akuZGYpS84I8",
        "outputId": "1f2f7dc1-21da-4fe0-f479-677b32e81c72"
      },
      "execution_count": null,
      "outputs": [
        {
          "output_type": "stream",
          "name": "stdout",
          "text": [
            "<class 'bool'>\n",
            "<class 'bool'>\n"
          ]
        }
      ]
    },
    {
      "cell_type": "markdown",
      "source": [
        "#Data Type Conversion"
      ],
      "metadata": {
        "id": "l7rQTrduBrf_"
      }
    },
    {
      "cell_type": "code",
      "source": [
        "#Conversion From Integer to Float\n",
        "\n",
        "number1 = 51\n",
        "print(number1)\n",
        "print(type(number1))\n",
        "number = float(number1)\n",
        "print(number)\n",
        "print(type(number))"
      ],
      "metadata": {
        "colab": {
          "base_uri": "https://localhost:8080/"
        },
        "id": "YE8ir3-HBzq3",
        "outputId": "5b187429-b8b9-48ac-b72b-b94686d53b40"
      },
      "execution_count": null,
      "outputs": [
        {
          "output_type": "stream",
          "name": "stdout",
          "text": [
            "51\n",
            "<class 'int'>\n",
            "51.0\n",
            "<class 'float'>\n"
          ]
        }
      ]
    },
    {
      "cell_type": "code",
      "source": [
        "#Conversion From Float to Integer\n",
        "\n",
        "number2 = 51.20\n",
        "print(number2)\n",
        "print(type(number2))\n",
        "number = int(number2)\n",
        "print(number)\n",
        "print(type(number))"
      ],
      "metadata": {
        "colab": {
          "base_uri": "https://localhost:8080/"
        },
        "id": "4ozL4bVeDR2q",
        "outputId": "477fa267-4b29-443b-9519-d0f3ab36fb11"
      },
      "execution_count": null,
      "outputs": [
        {
          "output_type": "stream",
          "name": "stdout",
          "text": [
            "51.2\n",
            "<class 'float'>\n",
            "51\n",
            "<class 'int'>\n"
          ]
        }
      ]
    },
    {
      "cell_type": "markdown",
      "source": [
        "#Constants & Variables"
      ],
      "metadata": {
        "id": "NPf2ASIB27GY"
      }
    },
    {
      "cell_type": "code",
      "source": [
        "Name = \"Harshit Rathaur\"\n",
        "print(Name)\n",
        "\n",
        "Name = \"Harshit\"\n",
        "print(Name)"
      ],
      "metadata": {
        "colab": {
          "base_uri": "https://localhost:8080/"
        },
        "id": "_xK5-d6a2_RW",
        "outputId": "759a703b-0abe-404d-830f-87575c763e04"
      },
      "execution_count": null,
      "outputs": [
        {
          "output_type": "stream",
          "name": "stdout",
          "text": [
            "Harshit Rathaur\n",
            "Harshit\n"
          ]
        }
      ]
    },
    {
      "cell_type": "code",
      "source": [
        "Name , Role , Company  = \"Harshit Rathaur\" , \"Scholar Trainee\" , \"Wipro\"\n",
        "print(Name)\n",
        "print(Role)\n",
        "print(Company)\n"
      ],
      "metadata": {
        "colab": {
          "base_uri": "https://localhost:8080/"
        },
        "id": "gAhefwj33MVB",
        "outputId": "cca69ddc-1662-4c16-ef04-50a37d1fad03"
      },
      "execution_count": null,
      "outputs": [
        {
          "output_type": "stream",
          "name": "stdout",
          "text": [
            "Harshit Rathaur\n",
            "Scholar Trainee\n",
            "Wipro\n"
          ]
        }
      ]
    },
    {
      "cell_type": "code",
      "source": [],
      "metadata": {
        "id": "Zofrb6fm4LFL"
      },
      "execution_count": null,
      "outputs": []
    },
    {
      "cell_type": "markdown",
      "source": [
        "#input Function\n"
      ],
      "metadata": {
        "id": "96k80n0E5kac"
      }
    },
    {
      "cell_type": "code",
      "source": [
        "#To Get string as input\n",
        "\n",
        "name = input(\"Enter Your Name: \")\n",
        "print(\"Hi\",name,\"! Have a Nice Day ❤️\")\n",
        "type(name)"
      ],
      "metadata": {
        "colab": {
          "base_uri": "https://localhost:8080/"
        },
        "id": "1yVLyvEc6CX_",
        "outputId": "a00ffea3-7eae-4de6-9d64-fce2e31fee91"
      },
      "execution_count": null,
      "outputs": [
        {
          "output_type": "stream",
          "name": "stdout",
          "text": [
            "Enter Your Name: HARSHIT\n",
            "Hi HARSHIT ! Have a Nice Day ❤️\n"
          ]
        },
        {
          "output_type": "execute_result",
          "data": {
            "text/plain": [
              "str"
            ]
          },
          "metadata": {},
          "execution_count": 38
        }
      ]
    },
    {
      "cell_type": "code",
      "source": [
        "#To Get integer as input\n",
        "\n",
        "num1 = int(input(\"Enter Valid integer: \"))\n",
        "print(\"You enterd:\",num1)\n",
        "type(num1)"
      ],
      "metadata": {
        "colab": {
          "base_uri": "https://localhost:8080/"
        },
        "id": "eemo0gZl5nvT",
        "outputId": "eacf86d6-8daf-45c2-bb3a-f1dd5ffa11fe"
      },
      "execution_count": null,
      "outputs": [
        {
          "output_type": "stream",
          "name": "stdout",
          "text": [
            "Enter Valid integer: 51\n",
            "You enterd: 51\n"
          ]
        },
        {
          "output_type": "execute_result",
          "data": {
            "text/plain": [
              "int"
            ]
          },
          "metadata": {},
          "execution_count": 37
        }
      ]
    },
    {
      "cell_type": "code",
      "source": [
        "#To Get float as input\n",
        "\n",
        "age = float(input(\"Enter Your age: \"))\n",
        "print(\"Your age is:\",age,\"yrs\")\n",
        "type(age)"
      ],
      "metadata": {
        "colab": {
          "base_uri": "https://localhost:8080/"
        },
        "id": "KH8FnKOb6h15",
        "outputId": "2b6605ff-f21d-4ba7-bb42-1600ba1af0ac"
      },
      "execution_count": null,
      "outputs": [
        {
          "output_type": "stream",
          "name": "stdout",
          "text": [
            "Enter Your age: 20.1\n",
            "Your age is: 20.1 yrs\n"
          ]
        },
        {
          "output_type": "execute_result",
          "data": {
            "text/plain": [
              "float"
            ]
          },
          "metadata": {},
          "execution_count": 36
        }
      ]
    },
    {
      "cell_type": "markdown",
      "source": [
        "#String Slicing & Concatenation\n"
      ],
      "metadata": {
        "id": "zzjEq9B4Fh2p"
      }
    },
    {
      "cell_type": "code",
      "source": [
        "#String Slicing\n",
        "\n",
        "my_string = \"Machine Learning\"\n",
        "print(my_string)\n",
        "print(my_string[0:7]) # Print Values from index 0 to index 6\n",
        "print(my_string[0:7:2]) # One Value is Skipped in each print\n",
        "print(my_string[0:]) # Print from index 0 to end"
      ],
      "metadata": {
        "colab": {
          "base_uri": "https://localhost:8080/"
        },
        "id": "tCMiyLcWFmNe",
        "outputId": "88ccffa5-a3db-40e2-d77a-256932ab8661"
      },
      "execution_count": null,
      "outputs": [
        {
          "output_type": "stream",
          "name": "stdout",
          "text": [
            "Machine Learning\n",
            "Machine\n",
            "Mcie\n",
            "Machine Learning\n"
          ]
        }
      ]
    },
    {
      "cell_type": "code",
      "source": [
        "#String Concatenation\n",
        "\n",
        "First_Name = \"Harshit\"\n",
        "Last_Name = \"Rathaur\"\n",
        "print(First_Name+\" \"+Last_Name)"
      ],
      "metadata": {
        "colab": {
          "base_uri": "https://localhost:8080/"
        },
        "id": "pz82Q8phESVu",
        "outputId": "629db1b5-abaa-4385-bfe6-be4b0d8cbabd"
      },
      "execution_count": null,
      "outputs": [
        {
          "output_type": "stream",
          "name": "stdout",
          "text": [
            "Harshit Rathaur\n"
          ]
        }
      ]
    },
    {
      "cell_type": "markdown",
      "source": [
        "#Object Types in Python\n",
        "\n",
        "  1. Immutable Objects\n",
        "     a) Integer\n",
        "     b) Float\n",
        "     c) String\n",
        "     d) Boolean\n",
        "     e) Tuple\n",
        "\n",
        "  2. Mutable Objects\n",
        "     a) List\n",
        "     b) Set\n",
        "     c) Dictionary"
      ],
      "metadata": {
        "id": "wmHbNwIpHFFg"
      }
    },
    {
      "cell_type": "markdown",
      "source": [
        "**List**"
      ],
      "metadata": {
        "id": "w7UteRhfFhTW"
      }
    },
    {
      "cell_type": "code",
      "source": [
        "#List\n",
        "\n",
        "l1 = [\"Apple\", \"Orange\", 20, 51]\n",
        "print(l1)\n",
        "print(type(l1))"
      ],
      "metadata": {
        "colab": {
          "base_uri": "https://localhost:8080/"
        },
        "id": "fX34fr-fHJgF",
        "outputId": "da263cc6-06b5-4111-f8a8-85e85fa6e521"
      },
      "execution_count": null,
      "outputs": [
        {
          "output_type": "stream",
          "name": "stdout",
          "text": [
            "['Apple', 'Orange', 20, 51]\n",
            "<class 'list'>\n"
          ]
        }
      ]
    },
    {
      "cell_type": "code",
      "source": [
        "#List allows duplicates\n",
        "\n",
        "l2 = [\"Harshit\", \"Wipro\", \"HDFC\", \"Wipro\"]\n",
        "print(l2)"
      ],
      "metadata": {
        "colab": {
          "base_uri": "https://localhost:8080/"
        },
        "id": "RlJbJRtEEXqu",
        "outputId": "ba4e0bff-1ebb-4764-d841-498c8e381044"
      },
      "execution_count": null,
      "outputs": [
        {
          "output_type": "stream",
          "name": "stdout",
          "text": [
            "['Harshit', 'Wipro', 'HDFC', 'Wipro']\n"
          ]
        }
      ]
    },
    {
      "cell_type": "code",
      "source": [
        "#List len Function\n",
        "\n",
        "l3 = [20, \"Harshit\", \"Wipro\", 51]\n",
        "print(len(l3))"
      ],
      "metadata": {
        "colab": {
          "base_uri": "https://localhost:8080/"
        },
        "id": "TuUJjpeZEmrG",
        "outputId": "e1117be6-5641-493a-ca38-722dacc4efdf"
      },
      "execution_count": null,
      "outputs": [
        {
          "output_type": "stream",
          "name": "stdout",
          "text": [
            "4\n"
          ]
        }
      ]
    },
    {
      "cell_type": "code",
      "source": [
        "#We can delete elements in list\n",
        "\n",
        "l4 = [\"Harshit\",\"Rathaur\",\"GPS\",\"Wipro\"]\n",
        "print(l4)\n",
        "del l4[2]\n",
        "print(l4)"
      ],
      "metadata": {
        "colab": {
          "base_uri": "https://localhost:8080/"
        },
        "id": "P1NFhMCKEwmt",
        "outputId": "76937e2c-bb9f-4a19-eb6e-35f692301c36"
      },
      "execution_count": null,
      "outputs": [
        {
          "output_type": "stream",
          "name": "stdout",
          "text": [
            "['Harshit', 'Rathaur', 'GPS', 'Wipro']\n",
            "['Harshit', 'Rathaur', 'Wipro']\n"
          ]
        }
      ]
    },
    {
      "cell_type": "code",
      "source": [
        "#We can Join two lists\n",
        "\n",
        "l4 = [1,2,3,5,4]\n",
        "l5 = [6,7,8,9,10]\n",
        "l6 = l4+l5\n",
        "print(l6)"
      ],
      "metadata": {
        "colab": {
          "base_uri": "https://localhost:8080/"
        },
        "id": "RxlY0ho2FC-J",
        "outputId": "6ba0f022-2c1f-4097-c561-af63900aaf12"
      },
      "execution_count": null,
      "outputs": [
        {
          "output_type": "stream",
          "name": "stdout",
          "text": [
            "None\n"
          ]
        }
      ]
    },
    {
      "cell_type": "markdown",
      "source": [
        "**Tuple**\n",
        "\n"
      ],
      "metadata": {
        "id": "sp3exXjJFmCW"
      }
    },
    {
      "cell_type": "code",
      "source": [
        "#Tuple Creation\n",
        "\n",
        "tuple_1 = (5,1,2,0)\n",
        "print(tuple_1)"
      ],
      "metadata": {
        "colab": {
          "base_uri": "https://localhost:8080/"
        },
        "id": "8vMjl2zDFoz3",
        "outputId": "6e80eca9-d379-40d4-e7f5-a6e2855f808f"
      },
      "execution_count": null,
      "outputs": [
        {
          "output_type": "stream",
          "name": "stdout",
          "text": [
            "(5, 1, 2, 0)\n"
          ]
        }
      ]
    },
    {
      "cell_type": "code",
      "source": [
        "#Tuple Allows multiple datatypes\n",
        "\n",
        "tuple_2 = (\"Harshit\",True, 51, 51.20)\n",
        "print(tuple_2)\n",
        "print(type(tuple_2))"
      ],
      "metadata": {
        "colab": {
          "base_uri": "https://localhost:8080/"
        },
        "id": "dGasUzuXF0Yu",
        "outputId": "f2e24ac5-2abe-4384-bcf9-235c45f25b41"
      },
      "execution_count": null,
      "outputs": [
        {
          "output_type": "stream",
          "name": "stdout",
          "text": [
            "('Harshit', True, 51, 51.2)\n",
            "<class 'tuple'>\n"
          ]
        }
      ]
    },
    {
      "cell_type": "code",
      "source": [
        "#Converting List into Tuple\n",
        "\n",
        "my_list = [51,20,30,37]\n",
        "print(my_list)\n",
        "print(type(my_list))\n",
        "my_tuple = tuple(my_list)\n",
        "print(my_tuple)\n",
        "print(type(my_tuple))"
      ],
      "metadata": {
        "colab": {
          "base_uri": "https://localhost:8080/"
        },
        "id": "1pa_vLj8GDmX",
        "outputId": "30ddb437-6c92-4d93-887c-ba8b2e0bb59b"
      },
      "execution_count": null,
      "outputs": [
        {
          "output_type": "stream",
          "name": "stdout",
          "text": [
            "[51, 20, 30, 37]\n",
            "<class 'list'>\n",
            "(51, 20, 30, 37)\n",
            "<class 'tuple'>\n"
          ]
        }
      ]
    },
    {
      "cell_type": "code",
      "source": [
        "#Indexing\n",
        "\n",
        "tuple_3 = (\"Harshit\", \"Rathaur\", \"Wipro\", \"Private Limited\", \"Scholar Trainee\")\n",
        "print(tuple_3)\n",
        "print(tuple_3[4])"
      ],
      "metadata": {
        "colab": {
          "base_uri": "https://localhost:8080/"
        },
        "id": "46Wrz9BBGaGA",
        "outputId": "e9d3652f-59dd-4784-ebea-574ce4c0c09d"
      },
      "execution_count": null,
      "outputs": [
        {
          "output_type": "stream",
          "name": "stdout",
          "text": [
            "('Harshit', 'Rathaur', 'Wipro', 'Private Limited', 'Scholar Trainee')\n",
            "Scholar Trainee\n"
          ]
        }
      ]
    },
    {
      "cell_type": "code",
      "source": [
        "#Len Function\n",
        "\n",
        "tuple_4 = (\"Harshit\", \"Rathaur\", \"Wipro Private Limited\", \"HDFC Life\", \"Scholar Trainee\")\n",
        "print(tuple_4)\n",
        "len(tuple_4)"
      ],
      "metadata": {
        "colab": {
          "base_uri": "https://localhost:8080/"
        },
        "id": "9CKoL9-LGvje",
        "outputId": "7b9dd7ed-eca9-4cb7-941a-bf0f086330cc"
      },
      "execution_count": null,
      "outputs": [
        {
          "output_type": "stream",
          "name": "stdout",
          "text": [
            "('Harshit', 'Rathaur', 'Wipro Private Limited', 'HDFC Life', 'Scholar Trainee')\n"
          ]
        },
        {
          "output_type": "execute_result",
          "data": {
            "text/plain": [
              "5"
            ]
          },
          "metadata": {},
          "execution_count": 16
        }
      ]
    },
    {
      "cell_type": "markdown",
      "source": [
        "**Set**\n"
      ],
      "metadata": {
        "id": "pVIW-EByG_ZZ"
      }
    },
    {
      "cell_type": "code",
      "source": [
        "#Creating Set\n",
        "\n",
        "set_1 = {2,4,3,5,6}\n",
        "print(set_1)\n",
        "type(set_1)"
      ],
      "metadata": {
        "colab": {
          "base_uri": "https://localhost:8080/"
        },
        "id": "6ZlMr2EjHBef",
        "outputId": "3d568bd2-da85-47e1-dc04-fe55398654c2"
      },
      "execution_count": null,
      "outputs": [
        {
          "output_type": "stream",
          "name": "stdout",
          "text": [
            "{2, 3, 4, 5, 6}\n"
          ]
        },
        {
          "output_type": "execute_result",
          "data": {
            "text/plain": [
              "set"
            ]
          },
          "metadata": {},
          "execution_count": 18
        }
      ]
    },
    {
      "cell_type": "code",
      "source": [
        "#Set doesn't support indexing\n",
        "\n",
        "set_2 = {45,67,53,51,20}\n",
        "print(set_2)\n",
        "# print(set_2[1])"
      ],
      "metadata": {
        "colab": {
          "base_uri": "https://localhost:8080/"
        },
        "id": "pdZeKkAlHIR5",
        "outputId": "45244539-29ef-4be5-d16b-3c202b272d98"
      },
      "execution_count": null,
      "outputs": [
        {
          "output_type": "stream",
          "name": "stdout",
          "text": [
            "{67, 51, 20, 53, 45}\n"
          ]
        }
      ]
    },
    {
      "cell_type": "code",
      "source": [
        "#Convert List into set\n",
        "\n",
        "list_01 = [51,20,2020,90,100]\n",
        "print(list_01)\n",
        "print(type(list_01))\n",
        "set_01 = set(list_01)\n",
        "print(set_01)\n",
        "print(type(set_01))"
      ],
      "metadata": {
        "colab": {
          "base_uri": "https://localhost:8080/"
        },
        "id": "5_mf0b-FHVIB",
        "outputId": "f8a575d9-9cce-4d9a-def2-5da066aeecb8"
      },
      "execution_count": null,
      "outputs": [
        {
          "output_type": "stream",
          "name": "stdout",
          "text": [
            "[51, 20, 2020, 90, 100]\n",
            "<class 'list'>\n",
            "{100, 2020, 51, 20, 90}\n",
            "<class 'set'>\n"
          ]
        }
      ]
    },
    {
      "cell_type": "code",
      "source": [
        "#Duplicates not allowed in Set\n",
        "\n",
        "set_3 = {51,51,51,20,20,20}\n",
        "print(set_3)"
      ],
      "metadata": {
        "colab": {
          "base_uri": "https://localhost:8080/"
        },
        "id": "8XLkNJH9HzGC",
        "outputId": "c5a155b2-91e6-470d-e427-f93f218425a4"
      },
      "execution_count": null,
      "outputs": [
        {
          "output_type": "stream",
          "name": "stdout",
          "text": [
            "{51, 20}\n"
          ]
        }
      ]
    },
    {
      "cell_type": "markdown",
      "source": [
        "**Dictionary**\n"
      ],
      "metadata": {
        "id": "g0_5xaqpIAl0"
      }
    },
    {
      "cell_type": "code",
      "source": [
        "dict_1 = {\n",
        "    \"Name\" : \"Harshit Rathaur\",\n",
        "    \"Company\" : \"Wipro PVT LTD\",\n",
        "    \"Role\" : \"Scholar Trainee\"\n",
        "}\n",
        "print(dict_1)\n",
        "type(dict_1)"
      ],
      "metadata": {
        "colab": {
          "base_uri": "https://localhost:8080/"
        },
        "id": "PEEcpKAmICS8",
        "outputId": "933ffd57-4732-4a0a-95ad-6fba7f9aaa0d"
      },
      "execution_count": null,
      "outputs": [
        {
          "output_type": "stream",
          "name": "stdout",
          "text": [
            "{'Name': 'Harshit Rathaur', 'Company': 'Wipro PVT LTD', 'Role': 'Scholar Trainee'}\n"
          ]
        },
        {
          "output_type": "execute_result",
          "data": {
            "text/plain": [
              "dict"
            ]
          },
          "metadata": {},
          "execution_count": 29
        }
      ]
    },
    {
      "cell_type": "code",
      "source": [
        "#Calling Values through Key\n",
        "\n",
        "print(dict_1[\"Name\"])\n",
        "print(dict_1[\"Company\"])\n",
        "print(dict_1[\"Role\"])"
      ],
      "metadata": {
        "colab": {
          "base_uri": "https://localhost:8080/"
        },
        "id": "zGQEbtibIYir",
        "outputId": "58c56eac-05b3-4474-80c6-52ca5b51a11c"
      },
      "execution_count": null,
      "outputs": [
        {
          "output_type": "stream",
          "name": "stdout",
          "text": [
            "Harshit Rathaur\n",
            "Wipro PVT LTD\n",
            "Scholar Trainee\n"
          ]
        }
      ]
    },
    {
      "cell_type": "code",
      "source": [
        "#Duplicates not Allowed\n",
        "dict_2 = {\n",
        "    \"Name\" : \"Harshit Rathaur\",\n",
        "    \"Company\" : \"Wipro PVT LTD\",\n",
        "    \"Role\" : \"Scholar Trainee\",\n",
        "    \"Name\" : \"Harshit Rathaur\"\n",
        "}\n",
        "print(dict_2)"
      ],
      "metadata": {
        "colab": {
          "base_uri": "https://localhost:8080/"
        },
        "id": "1BrNhXOQIt46",
        "outputId": "9a9bb5f7-3a97-45de-cf25-ad278840bdf6"
      },
      "execution_count": null,
      "outputs": [
        {
          "output_type": "stream",
          "name": "stdout",
          "text": [
            "{'Name': 'Harshit Rathaur', 'Company': 'Wipro PVT LTD', 'Role': 'Scholar Trainee'}\n"
          ]
        }
      ]
    },
    {
      "cell_type": "markdown",
      "source": [
        "#Operators in Python\n",
        "\n",
        " 1. Arithmetic Operators\n",
        " 2. Assignment Operators\n",
        " 3. Comparison Operators\n",
        " 4. Logical Operators\n",
        " 5. Identity Operators\n",
        " 6. Membership Operators\n",
        "\n",
        "\n",
        "\n"
      ],
      "metadata": {
        "id": "66A_n38YJKTT"
      }
    },
    {
      "cell_type": "markdown",
      "source": [
        "**Arithmetic Operators**"
      ],
      "metadata": {
        "id": "AJXf2mz0JYhA"
      }
    },
    {
      "cell_type": "code",
      "source": [
        "num1 = int(input(\"Enter First number: \"))\n",
        "num2 = int(input(\"Enter Second number: \"))\n",
        "\n",
        "#Arithmetic Operations\n",
        "print(\"Sum =\",num1 + num2)\n",
        "print(\"Difference =\",num1 - num2)\n",
        "print(\"Product =\",num1 * num2)\n",
        "print(\"Quotient =\",num1 / num2)\n",
        "print(num1 ,\"to the Power of\",num2,\"=\",num1**num2)\n",
        "print(\"Remainder after dividing\",num1,\"from number2=\",num1%num)"
      ],
      "metadata": {
        "colab": {
          "base_uri": "https://localhost:8080/"
        },
        "id": "wHJAMzM1JOms",
        "outputId": "2fad6e9b-fea1-48da-bfdd-ecbc24cb22bf"
      },
      "execution_count": null,
      "outputs": [
        {
          "output_type": "stream",
          "name": "stdout",
          "text": [
            "Enter First number: 51\n",
            "Enter Second number: 20\n",
            "Sum = 71\n",
            "Difference = 31\n",
            "Product = 1020\n",
            "Quotient = 2.55\n",
            "51 to the Power of 20 = 14171098670753043575626125424226001\n",
            "Remainder after dividing 51 from number2= 11\n"
          ]
        }
      ]
    },
    {
      "cell_type": "markdown",
      "source": [
        "**Assignment Operators** ( =,\n",
        "+= , -=, *=, /=, %=)"
      ],
      "metadata": {
        "id": "mHX2O_JwLExc"
      }
    },
    {
      "cell_type": "code",
      "source": [
        "num1 = 51\n",
        "print(num1)\n",
        "num1 +=20\n",
        "print(num1)\n",
        "num1 -=20\n",
        "print(num1)"
      ],
      "metadata": {
        "colab": {
          "base_uri": "https://localhost:8080/"
        },
        "id": "s_6SBt9mLGkp",
        "outputId": "3f8bc7d4-827d-4a5c-c929-53f1fb30e013"
      },
      "execution_count": null,
      "outputs": [
        {
          "output_type": "stream",
          "name": "stdout",
          "text": [
            "51\n",
            "71\n",
            "51\n"
          ]
        }
      ]
    },
    {
      "cell_type": "markdown",
      "source": [
        "**Comparisation / Relational Operator**"
      ],
      "metadata": {
        "id": "4Flq8EkNL3I2"
      }
    },
    {
      "cell_type": "code",
      "source": [
        "num1 = 51\n",
        "num2 = 20\n",
        "print(num1 > num2)\n",
        "print(num1 < num2)\n",
        "print(num1 == num2)\n",
        "print(num1 != num2)\n",
        "print(num1 <= num2)\n",
        "print(num1 >= num2)"
      ],
      "metadata": {
        "colab": {
          "base_uri": "https://localhost:8080/"
        },
        "id": "qv_KgmEmLbRT",
        "outputId": "97e964a9-ac01-4f6b-b657-f1557664b6b1"
      },
      "execution_count": null,
      "outputs": [
        {
          "output_type": "stream",
          "name": "stdout",
          "text": [
            "True\n",
            "False\n",
            "False\n",
            "True\n",
            "False\n",
            "True\n"
          ]
        }
      ]
    },
    {
      "cell_type": "markdown",
      "source": [
        "**Logical Operators** (and, or, not)"
      ],
      "metadata": {
        "id": "IPkT6aaFMq5e"
      }
    },
    {
      "cell_type": "code",
      "source": [
        "num1 = 51\n",
        "num1 = 52\n",
        "#Logical And\n",
        "print(num1 > num2 and num1 != num2)\n",
        "print(num1 > num2 and num1 == num2)\n",
        "#Logical Or\n",
        "print(num1 == num2 or num1 > num2)\n",
        "print(num1 < num2 or num1 == num2)\n",
        "#Logical Not\n",
        "print(not(num1 < num2 or num1 == num2))"
      ],
      "metadata": {
        "colab": {
          "base_uri": "https://localhost:8080/"
        },
        "id": "xW_6tNtdMu13",
        "outputId": "434afc73-7c7e-4d0e-b94f-402ea8f920ae"
      },
      "execution_count": null,
      "outputs": [
        {
          "output_type": "stream",
          "name": "stdout",
          "text": [
            "True\n",
            "False\n",
            "True\n",
            "False\n",
            "True\n"
          ]
        }
      ]
    },
    {
      "cell_type": "markdown",
      "source": [
        "**Identity Operator** (is, is not)"
      ],
      "metadata": {
        "id": "iTN4JkZoNfMk"
      }
    },
    {
      "cell_type": "code",
      "source": [
        "num1 = 51\n",
        "num2 = 20\n",
        "print(num1 is num2)\n",
        "print(num1 is not num2)"
      ],
      "metadata": {
        "colab": {
          "base_uri": "https://localhost:8080/"
        },
        "id": "LetzzoqkNmr4",
        "outputId": "0f008743-8f0e-46f3-c130-cb97d8c61f7f"
      },
      "execution_count": null,
      "outputs": [
        {
          "output_type": "stream",
          "name": "stdout",
          "text": [
            "False\n",
            "True\n"
          ]
        }
      ]
    },
    {
      "cell_type": "markdown",
      "source": [
        "**Membership Operator** (in, not in)"
      ],
      "metadata": {
        "id": "fo1AjbhzNvDq"
      }
    },
    {
      "cell_type": "code",
      "source": [
        "num1 = 51\n",
        "num2 = 20\n",
        "list1 = [1,2,3,4,5]\n",
        "\n",
        "print(num1 in list1)\n",
        "print(num2 not in list1)"
      ],
      "metadata": {
        "colab": {
          "base_uri": "https://localhost:8080/"
        },
        "id": "r8pcw3UzNtnI",
        "outputId": "652f4a8f-8d16-4e4d-f037-7f28c929f04d"
      },
      "execution_count": null,
      "outputs": [
        {
          "output_type": "stream",
          "name": "stdout",
          "text": [
            "False\n",
            "True\n"
          ]
        }
      ]
    },
    {
      "cell_type": "markdown",
      "source": [
        "#Conditional Statements\n"
      ],
      "metadata": {
        "id": "3odhYkxiOdTN"
      }
    },
    {
      "cell_type": "code",
      "source": [
        "age = int(input(\"Enter Your Age: \"))\n",
        "if(age>=18):\n",
        "  print(\"You Can Vote & Drive.\")\n",
        "else:\n",
        "  print(\"You Can't Vote & Drive\")"
      ],
      "metadata": {
        "id": "COjQI_amOgNl",
        "colab": {
          "base_uri": "https://localhost:8080/"
        },
        "outputId": "e0bb4e48-0597-4455-84d1-5dd490a8b0b3"
      },
      "execution_count": null,
      "outputs": [
        {
          "output_type": "stream",
          "name": "stdout",
          "text": [
            "Enter Your Age: 18\n",
            "You Can Vote & Drive.\n"
          ]
        }
      ]
    },
    {
      "cell_type": "code",
      "source": [
        "#if elif Statement\n",
        "\n",
        "print(\"Enter three number: \\n\")\n",
        "num1 = int(input())\n",
        "num2 = int(input())\n",
        "num3 = int(input())\n",
        "if(num3 > num1 and num3 >num2):\n",
        "  print(num3, \"is greatest\")\n",
        "elif(num2 > num1 and num2 > num3):\n",
        "  print(num3, \"is greatest\")\n",
        "else:\n",
        "  print(num1, \"is greatest\")"
      ],
      "metadata": {
        "colab": {
          "base_uri": "https://localhost:8080/"
        },
        "id": "y7rJkmxjWaIO",
        "outputId": "04888826-e02e-44d5-8702-ea2c21c1c056"
      },
      "execution_count": null,
      "outputs": [
        {
          "output_type": "stream",
          "name": "stdout",
          "text": [
            "Enter three number: \n",
            "\n",
            "51\n",
            "20\n",
            "6\n",
            "51 is greatest\n"
          ]
        }
      ]
    },
    {
      "cell_type": "code",
      "source": [
        "#Nested if\n",
        "\n",
        "print(\"Enter three number: \\n\")\n",
        "num4 = int(input())\n",
        "num5 = int(input())\n",
        "num6 = int(input())\n",
        "if(num4>num6):\n",
        "  if(num4>num5):\n",
        "      print(num4, \"is greatest\")\n",
        "elif(num5>num6):\n",
        "  if(num5>num4):\n",
        "      print(num5, \"is greatest\")\n",
        "elif(num6>num5):\n",
        "  if(num6>num5):\n",
        "      print(num6, \"is greatest\")\n",
        "else:\n",
        "  print(num4,\"=\",num5,\"=\",num6)\n"
      ],
      "metadata": {
        "colab": {
          "base_uri": "https://localhost:8080/"
        },
        "id": "LId0uvdXXVyI",
        "outputId": "34f27449-4a82-4dbd-c926-65e29f26a97a"
      },
      "execution_count": null,
      "outputs": [
        {
          "output_type": "stream",
          "name": "stdout",
          "text": [
            "Enter three number: \n",
            "\n",
            "51\n",
            "20\n",
            "0\n",
            "51 is greatest\n"
          ]
        }
      ]
    },
    {
      "cell_type": "markdown",
      "source": [
        "#Loops in Python\n"
      ],
      "metadata": {
        "id": "PTdgfRtSYkAI"
      }
    },
    {
      "cell_type": "code",
      "source": [
        "#For Loop\n",
        "\n",
        "for i in range(10):\n",
        "  print(i)"
      ],
      "metadata": {
        "id": "dN82hLhaYmzd",
        "colab": {
          "base_uri": "https://localhost:8080/"
        },
        "outputId": "c890f5fb-9802-4380-87d3-b4597becb97c"
      },
      "execution_count": 2,
      "outputs": [
        {
          "output_type": "stream",
          "name": "stdout",
          "text": [
            "0\n",
            "1\n",
            "2\n",
            "3\n",
            "4\n",
            "5\n",
            "6\n",
            "7\n",
            "8\n",
            "9\n"
          ]
        }
      ]
    },
    {
      "cell_type": "code",
      "source": [
        "numbers = [51,20,90,108,101]\n",
        "for i in numbers:\n",
        "  print(i)"
      ],
      "metadata": {
        "colab": {
          "base_uri": "https://localhost:8080/"
        },
        "id": "8Zbua3330V7t",
        "outputId": "7cb61f04-33d9-4f39-a068-b0063cdb8fa0"
      },
      "execution_count": 4,
      "outputs": [
        {
          "output_type": "stream",
          "name": "stdout",
          "text": [
            "51\n",
            "20\n",
            "90\n",
            "108\n",
            "101\n"
          ]
        }
      ]
    },
    {
      "cell_type": "code",
      "source": [
        "#While Loop\n",
        "\n",
        "i = 1\n",
        "while (i<=10):\n",
        "  print(i)\n",
        "  i+=1 #i = i + 1"
      ],
      "metadata": {
        "colab": {
          "base_uri": "https://localhost:8080/"
        },
        "id": "I1-3YmH41BmK",
        "outputId": "f7f2f0ca-0958-4c19-b7a9-aef8bd09b92e"
      },
      "execution_count": 10,
      "outputs": [
        {
          "output_type": "stream",
          "name": "stdout",
          "text": [
            "1\n",
            "2\n",
            "3\n",
            "4\n",
            "5\n",
            "6\n",
            "7\n",
            "8\n",
            "9\n",
            "10\n"
          ]
        }
      ]
    },
    {
      "cell_type": "code",
      "source": [
        "#Condition Not Satisfied\n",
        "\n",
        "i = 5\n",
        "while(i<3):\n",
        "  print(i)"
      ],
      "metadata": {
        "id": "3iRw66Ak1vVn"
      },
      "execution_count": 16,
      "outputs": []
    },
    {
      "cell_type": "markdown",
      "source": [
        "#Functions in Python"
      ],
      "metadata": {
        "id": "QItmTW-u2XX-"
      }
    },
    {
      "cell_type": "code",
      "source": [
        "#Factorial Program using if-else\n",
        "\n",
        "num1 = int(input(\"Enter Valid number: \"))\n",
        "factorial = 1\n",
        "if(num1 == 0):\n",
        "  print(\"Factorial of 0 is 1\")\n",
        "else:\n",
        "  for i in range(1, num1+1):\n",
        "    factorial = factorial * i\n",
        "  print(\"The Factorial of\",num1,\"=\",factorial)"
      ],
      "metadata": {
        "colab": {
          "base_uri": "https://localhost:8080/"
        },
        "id": "-oBdVXNy2HSU",
        "outputId": "8adffa70-69b0-4034-a803-a65bae884f86"
      },
      "execution_count": 21,
      "outputs": [
        {
          "output_type": "stream",
          "name": "stdout",
          "text": [
            "Enter Valid number: 51\n",
            "The Factorial of 51 = 1551118753287382280224243016469303211063259720016986112000000000000\n"
          ]
        }
      ]
    },
    {
      "cell_type": "code",
      "source": [
        "#Factorial Program using Function\n",
        "\n",
        "num2 = int(input(\"Enter Valid number: \"))\n",
        "def factorial_value(num2):\n",
        "  factorial = 1\n",
        "  if(num2 == 0):\n",
        "    return factorial\n",
        "  else:\n",
        "    for i in range(1, num2+1):\n",
        "      factorial = factorial * i\n",
        "    print(\"The Factorial of\",num2,\"=\",factorial)\n",
        "\n",
        "factorial_value(num2)"
      ],
      "metadata": {
        "colab": {
          "base_uri": "https://localhost:8080/"
        },
        "id": "FNKSgK_o4c-x",
        "outputId": "d36a3c9a-15c0-47fc-cf34-bfb01d5fa8c2"
      },
      "execution_count": 27,
      "outputs": [
        {
          "output_type": "stream",
          "name": "stdout",
          "text": [
            "Enter Valid number: 5\n",
            "The Factorial of 5 = 120\n"
          ]
        }
      ]
    }
  ]
}