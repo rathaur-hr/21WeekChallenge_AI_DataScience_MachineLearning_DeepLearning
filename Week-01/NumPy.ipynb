{
  "nbformat": 4,
  "nbformat_minor": 0,
  "metadata": {
    "colab": {
      "provenance": [],
      "collapsed_sections": [
        "rAVY0NaE_EA4",
        "pbOS-AMj9DM_",
        "fE1S15H4-okH",
        "6ZzSOfZU8x5l"
      ]
    },
    "kernelspec": {
      "name": "python3",
      "display_name": "Python 3"
    },
    "language_info": {
      "name": "python"
    }
  },
  "cells": [
    {
      "cell_type": "markdown",
      "source": [
        "NumPy - Numerical Python"
      ],
      "metadata": {
        "id": "UHR2IUHz8R6_"
      }
    },
    {
      "cell_type": "markdown",
      "source": [
        "#Importing Numpy as NP"
      ],
      "metadata": {
        "id": "rAVY0NaE_EA4"
      }
    },
    {
      "cell_type": "code",
      "execution_count": null,
      "metadata": {
        "id": "dm-mLbLP7RP8"
      },
      "outputs": [],
      "source": [
        "#Importing numpy\n",
        "\n",
        "import numpy as np"
      ]
    },
    {
      "cell_type": "markdown",
      "source": [
        "#List vs Numpy"
      ],
      "metadata": {
        "id": "pbOS-AMj9DM_"
      }
    },
    {
      "cell_type": "code",
      "source": [
        "from time import process_time"
      ],
      "metadata": {
        "id": "RsigdGl48wWj"
      },
      "execution_count": null,
      "outputs": []
    },
    {
      "cell_type": "code",
      "source": [
        "#Time taken by a list\n",
        "\n",
        "python_list =[i for i in range(10000)]\n",
        "start_time = process_time()\n",
        "\n",
        "python_list = [i+5 for i in python_list]\n",
        "\n",
        "end_time = process_time()\n",
        "\n",
        "print(end_time - start_time)"
      ],
      "metadata": {
        "colab": {
          "base_uri": "https://localhost:8080/"
        },
        "id": "5mwmnmKZ9LdG",
        "outputId": "6c65eb44-0a89-4aef-fe3e-68fbaf21395f"
      },
      "execution_count": null,
      "outputs": [
        {
          "output_type": "stream",
          "name": "stdout",
          "text": [
            "0.001549211999999578\n"
          ]
        }
      ]
    },
    {
      "cell_type": "code",
      "source": [
        "#Time taken by a Numpy Array\n",
        "\n",
        "np_array = np.array([i for i in range(10000)])\n",
        "start_time = process_time()\n",
        "\n",
        "np_array += 5\n",
        "\n",
        "end_time = process_time()\n",
        "\n",
        "print(end_time - start_time)"
      ],
      "metadata": {
        "colab": {
          "base_uri": "https://localhost:8080/"
        },
        "id": "4cKwKIaZ97iS",
        "outputId": "289ba171-e5b3-4b24-929d-0be5e09c2382"
      },
      "execution_count": null,
      "outputs": [
        {
          "output_type": "stream",
          "name": "stdout",
          "text": [
            "0.0009631599999995188\n"
          ]
        }
      ]
    },
    {
      "cell_type": "markdown",
      "source": [
        "#Creating Numpy array\n"
      ],
      "metadata": {
        "id": "fE1S15H4-okH"
      }
    },
    {
      "cell_type": "code",
      "source": [
        "#1-D Array\n",
        "\n",
        "np_array = np.array([51,20,100,108,101])\n",
        "print(np_array)\n",
        "print(type(np_array))\n",
        "\n",
        "print(np_array.shape)"
      ],
      "metadata": {
        "id": "x3SJvjO_-si0",
        "colab": {
          "base_uri": "https://localhost:8080/"
        },
        "outputId": "c3d745fa-1ef3-4ba2-89ed-43968a8cfa27"
      },
      "execution_count": null,
      "outputs": [
        {
          "output_type": "stream",
          "name": "stdout",
          "text": [
            "[ 51  20 100 108 101]\n",
            "<class 'numpy.ndarray'>\n",
            "(5,)\n"
          ]
        }
      ]
    },
    {
      "cell_type": "code",
      "source": [
        "#2-D Array\n",
        "\n",
        "np_array1 =np.array([(1,2,3,4),(5,6,7,8)])\n",
        "print(np_array1)\n",
        "print(type(np_array1))\n",
        "np_array1.shape"
      ],
      "metadata": {
        "colab": {
          "base_uri": "https://localhost:8080/"
        },
        "id": "ie985dAg4Wy-",
        "outputId": "691a2be1-3cdd-4f5d-eff7-ec0ea3f82dc2"
      },
      "execution_count": null,
      "outputs": [
        {
          "output_type": "stream",
          "name": "stdout",
          "text": [
            "[[1 2 3 4]\n",
            " [5 6 7 8]]\n",
            "<class 'numpy.ndarray'>\n"
          ]
        },
        {
          "output_type": "execute_result",
          "data": {
            "text/plain": [
              "(2, 4)"
            ]
          },
          "metadata": {},
          "execution_count": 14
        }
      ]
    },
    {
      "cell_type": "code",
      "source": [
        "#Mentioning Datatype\n",
        "\n",
        "np_array2 = np.array([(1,2,3,4),(5,6,7,8)],dtype=float)\n",
        "print(np_array2)\n"
      ],
      "metadata": {
        "colab": {
          "base_uri": "https://localhost:8080/"
        },
        "id": "d-_-OkIL5fMX",
        "outputId": "c635938e-f5fa-4786-fd86-6864668a79df"
      },
      "execution_count": null,
      "outputs": [
        {
          "output_type": "stream",
          "name": "stdout",
          "text": [
            "[[1. 2. 3. 4.]\n",
            " [5. 6. 7. 8.]]\n"
          ]
        }
      ]
    },
    {
      "cell_type": "code",
      "source": [
        "#Initial Placeholders in numpy array (Numpy array with all values 0)\n",
        "\n",
        "a = np.zeros((4,4),dtype = int)\n",
        "print(a)"
      ],
      "metadata": {
        "colab": {
          "base_uri": "https://localhost:8080/"
        },
        "id": "Ey30pSJA5tkN",
        "outputId": "63c05799-6733-48ce-c5f0-e3436f3b33e7"
      },
      "execution_count": null,
      "outputs": [
        {
          "output_type": "stream",
          "name": "stdout",
          "text": [
            "[[0 0 0 0]\n",
            " [0 0 0 0]\n",
            " [0 0 0 0]\n",
            " [0 0 0 0]]\n"
          ]
        }
      ]
    },
    {
      "cell_type": "code",
      "source": [
        "#Numpy array with all the values as 1\n",
        "\n",
        "b = np.ones((3,3))\n",
        "print(b)"
      ],
      "metadata": {
        "colab": {
          "base_uri": "https://localhost:8080/"
        },
        "id": "YWa_EPBA6A8h",
        "outputId": "2c6db24f-bb5c-4f8a-afc3-d4522571baba"
      },
      "execution_count": null,
      "outputs": [
        {
          "output_type": "stream",
          "name": "stdout",
          "text": [
            "[[1. 1. 1.]\n",
            " [1. 1. 1.]\n",
            " [1. 1. 1.]]\n"
          ]
        }
      ]
    },
    {
      "cell_type": "code",
      "source": [
        "#Numpy array of a particular value\n",
        "\n",
        "c = np.full((5,4),5)\n",
        "print(c)"
      ],
      "metadata": {
        "colab": {
          "base_uri": "https://localhost:8080/"
        },
        "id": "QopmY6886ZMp",
        "outputId": "ab099091-c1ac-4982-c6ba-4087289a544c"
      },
      "execution_count": null,
      "outputs": [
        {
          "output_type": "stream",
          "name": "stdout",
          "text": [
            "[[5 5 5 5]\n",
            " [5 5 5 5]\n",
            " [5 5 5 5]\n",
            " [5 5 5 5]\n",
            " [5 5 5 5]]\n"
          ]
        }
      ]
    },
    {
      "cell_type": "code",
      "source": [
        "#Creating Identity matrix\n",
        "\n",
        "d = np.eye(4)\n",
        "print(d)"
      ],
      "metadata": {
        "colab": {
          "base_uri": "https://localhost:8080/"
        },
        "id": "UBgE9_dq6jcI",
        "outputId": "d091d991-82cf-40ad-ab32-2ffbd0f9d51c"
      },
      "execution_count": null,
      "outputs": [
        {
          "output_type": "stream",
          "name": "stdout",
          "text": [
            "[[1. 0. 0. 0.]\n",
            " [0. 1. 0. 0.]\n",
            " [0. 0. 1. 0.]\n",
            " [0. 0. 0. 1.]]\n"
          ]
        }
      ]
    },
    {
      "cell_type": "code",
      "source": [
        "#Numpy Array with random values\n",
        "\n",
        "e = np.random.random((3,4))\n",
        "print(e)"
      ],
      "metadata": {
        "colab": {
          "base_uri": "https://localhost:8080/"
        },
        "id": "qR1NL8sj66ci",
        "outputId": "09389c83-4e25-404d-c3c4-f071638ca731"
      },
      "execution_count": null,
      "outputs": [
        {
          "output_type": "stream",
          "name": "stdout",
          "text": [
            "[[0.93871001 0.11182358 0.21734829 0.94257336]\n",
            " [0.1082086  0.49345805 0.40207444 0.93460259]\n",
            " [0.0533144  0.03949675 0.61155345 0.44487317]]\n"
          ]
        }
      ]
    },
    {
      "cell_type": "code",
      "source": [
        "#Numpy Array with random integers\n",
        "\n",
        "f = np.random.randint(10,100,(3,5))\n",
        "print(f)"
      ],
      "metadata": {
        "colab": {
          "base_uri": "https://localhost:8080/"
        },
        "id": "M4YoE83o7FrR",
        "outputId": "e2c328af-fea4-4527-9a19-fe9907ad8c24"
      },
      "execution_count": null,
      "outputs": [
        {
          "output_type": "stream",
          "name": "stdout",
          "text": [
            "[[70 14 13 71 35]\n",
            " [87 86 56 78 88]\n",
            " [93 25 37 51 69]]\n"
          ]
        }
      ]
    },
    {
      "cell_type": "code",
      "source": [
        "#Creating Array of evenly spaced values\n",
        "\n",
        "g = np.linspace(10,30,11)\n",
        "print(g)"
      ],
      "metadata": {
        "colab": {
          "base_uri": "https://localhost:8080/"
        },
        "id": "Jswyih-y7g51",
        "outputId": "9f33bbe6-622e-4b45-fe32-4196f01571d9"
      },
      "execution_count": null,
      "outputs": [
        {
          "output_type": "stream",
          "name": "stdout",
          "text": [
            "[10. 12. 14. 16. 18. 20. 22. 24. 26. 28. 30.]\n"
          ]
        }
      ]
    },
    {
      "cell_type": "code",
      "source": [
        "#Creating Array of evenly spaced value  --> Specifying Step\n",
        "\n",
        "h = np.arange(10,30,5)\n",
        "print(h)"
      ],
      "metadata": {
        "colab": {
          "base_uri": "https://localhost:8080/"
        },
        "id": "fRpkYivO77im",
        "outputId": "4bf39329-7f74-4b11-e5ea-b46a03c3e992"
      },
      "execution_count": null,
      "outputs": [
        {
          "output_type": "stream",
          "name": "stdout",
          "text": [
            "[10 15 20 25]\n"
          ]
        }
      ]
    },
    {
      "cell_type": "code",
      "source": [
        "#Converting list to Numpy array\n",
        "\n",
        "list2 = [51,20,30,37,34]\n",
        "print(list2)\n",
        "print(type(list2))\n",
        "np_array3 = np.array(list2)\n",
        "print(np_array3)\n",
        "print(type(np_array3))"
      ],
      "metadata": {
        "colab": {
          "base_uri": "https://localhost:8080/"
        },
        "id": "8afOj1j98QMW",
        "outputId": "844f5b0a-91fd-4926-e9cf-bb25e57ddd08"
      },
      "execution_count": null,
      "outputs": [
        {
          "output_type": "stream",
          "name": "stdout",
          "text": [
            "[51, 20, 30, 37, 34]\n",
            "<class 'list'>\n",
            "[51 20 30 37 34]\n",
            "<class 'numpy.ndarray'>\n"
          ]
        }
      ]
    },
    {
      "cell_type": "markdown",
      "source": [
        "#Analyzing Numpy Array"
      ],
      "metadata": {
        "id": "6ZzSOfZU8x5l"
      }
    },
    {
      "cell_type": "code",
      "source": [
        "c = np.random.randint(20,51,(5,5))\n",
        "print(c)"
      ],
      "metadata": {
        "colab": {
          "base_uri": "https://localhost:8080/"
        },
        "id": "Ax04M87A81Y2",
        "outputId": "37440a87-1986-48cd-e639-7fac6d6db5e8"
      },
      "execution_count": null,
      "outputs": [
        {
          "output_type": "stream",
          "name": "stdout",
          "text": [
            "[[41 43 22 42 44]\n",
            " [27 40 31 27 47]\n",
            " [20 22 34 21 25]\n",
            " [36 32 50 38 45]\n",
            " [25 40 33 43 35]]\n"
          ]
        }
      ]
    },
    {
      "cell_type": "code",
      "source": [
        "#Dimension of Numpy array\n",
        "\n",
        "print(c.ndim)"
      ],
      "metadata": {
        "colab": {
          "base_uri": "https://localhost:8080/"
        },
        "id": "jQHVNWVj8--1",
        "outputId": "5cea4faf-56b3-4c50-e2d8-2cdbfd1db643"
      },
      "execution_count": null,
      "outputs": [
        {
          "output_type": "stream",
          "name": "stdout",
          "text": [
            "2\n"
          ]
        }
      ]
    },
    {
      "cell_type": "code",
      "source": [
        "#Number of elements in an array\n",
        "\n",
        "print(c.size)"
      ],
      "metadata": {
        "colab": {
          "base_uri": "https://localhost:8080/"
        },
        "id": "Ck-esLyM9FQo",
        "outputId": "faf8c175-c617-44fa-b2ec-90f4218fb287"
      },
      "execution_count": null,
      "outputs": [
        {
          "output_type": "stream",
          "name": "stdout",
          "text": [
            "25\n"
          ]
        }
      ]
    },
    {
      "cell_type": "code",
      "source": [
        "#Checking the Datatype of values in the array\n",
        "\n",
        "print(c.dtype)"
      ],
      "metadata": {
        "colab": {
          "base_uri": "https://localhost:8080/"
        },
        "id": "zvlyl7UX9Mh8",
        "outputId": "315a1cb8-dbf4-402d-d547-36f73782bc24"
      },
      "execution_count": null,
      "outputs": [
        {
          "output_type": "stream",
          "name": "stdout",
          "text": [
            "int64\n"
          ]
        }
      ]
    },
    {
      "cell_type": "markdown",
      "source": [
        "#Mathematical Operations on Numpy Array\n"
      ],
      "metadata": {
        "id": "hUqr-PBR9gkB"
      }
    },
    {
      "cell_type": "code",
      "source": [
        "list1 = [1,2,3,4,5]\n",
        "list2 = [6,7,8,9,10]\n",
        "\n",
        "print(list1 + list2) # Concatenates or Join two lists"
      ],
      "metadata": {
        "colab": {
          "base_uri": "https://localhost:8080/"
        },
        "id": "CDOy2XQi9lHW",
        "outputId": "4f3d612e-47bc-4323-c5a0-eb8a4150d532"
      },
      "execution_count": null,
      "outputs": [
        {
          "output_type": "stream",
          "name": "stdout",
          "text": [
            "[1, 2, 3, 4, 5, 6, 7, 8, 9, 10]\n"
          ]
        }
      ]
    },
    {
      "cell_type": "code",
      "source": [
        "#Mathematical Operations using +,-,*,/ Opeartors\n",
        "\n",
        "np_array4 = np.random.randint(10,20,(3,3))\n",
        "np_array5 = np.random.randint(0,10,(3,3))\n",
        "print(np_array4)\n",
        "print(-np_array5)\n",
        "print(np_array4 + np_array5)\n",
        "print(np_array4 - np_array5)\n",
        "print(np_array4 * np_array5)\n",
        "print(np_array4 / np_array5)"
      ],
      "metadata": {
        "colab": {
          "base_uri": "https://localhost:8080/"
        },
        "id": "aY5QmAOSFdnt",
        "outputId": "17ea304c-e089-471e-d4d4-fa526be8183f"
      },
      "execution_count": null,
      "outputs": [
        {
          "output_type": "stream",
          "name": "stdout",
          "text": [
            "[[15 17 11]\n",
            " [18 19 10]\n",
            " [10 18 12]]\n",
            "[[-1 -1 -3]\n",
            " [-7 -4  0]\n",
            " [-7 -7 -5]]\n",
            "[[16 18 14]\n",
            " [25 23 10]\n",
            " [17 25 17]]\n",
            "[[14 16  8]\n",
            " [11 15 10]\n",
            " [ 3 11  7]]\n",
            "[[ 15  17  33]\n",
            " [126  76   0]\n",
            " [ 70 126  60]]\n",
            "[[15.         17.          3.66666667]\n",
            " [ 2.57142857  4.75               inf]\n",
            " [ 1.42857143  2.57142857  2.4       ]]\n"
          ]
        },
        {
          "output_type": "stream",
          "name": "stderr",
          "text": [
            "<ipython-input-61-edb936299af9>:8: RuntimeWarning: divide by zero encountered in divide\n",
            "  print(np_array4 / np_array5)\n"
          ]
        }
      ]
    },
    {
      "cell_type": "code",
      "source": [
        "#Mathematical Operations using add, subtract, multiply, divide method\n",
        "\n",
        "np_array6 = np.random.randint(10,20,(3,3))\n",
        "np_array7 = np.random.randint(0,10,(3,3))\n",
        "print(np_array6)\n",
        "print(np_array7)\n",
        "print(np.add(np_array6,np_array7))\n",
        "print(np.subtract(np_array6,np_array7))\n",
        "print(np.multiply(np_array6,np_array7))\n",
        "print(np.divide(np_array6,np_array7))\n"
      ],
      "metadata": {
        "colab": {
          "base_uri": "https://localhost:8080/"
        },
        "id": "lxyU7-COFzbC",
        "outputId": "7c2bb34e-92ca-4fa7-ab95-bed9fa81f3ce"
      },
      "execution_count": null,
      "outputs": [
        {
          "output_type": "stream",
          "name": "stdout",
          "text": [
            "[[12 16 10]\n",
            " [17 13 11]\n",
            " [11 18 18]]\n",
            "[[1 7 1]\n",
            " [8 4 2]\n",
            " [4 5 4]]\n",
            "[[13 23 11]\n",
            " [25 17 13]\n",
            " [15 23 22]]\n",
            "[[11  9  9]\n",
            " [ 9  9  9]\n",
            " [ 7 13 14]]\n",
            "[[ 12 112  10]\n",
            " [136  52  22]\n",
            " [ 44  90  72]]\n",
            "[[12.          2.28571429 10.        ]\n",
            " [ 2.125       3.25        5.5       ]\n",
            " [ 2.75        3.6         4.5       ]]\n"
          ]
        }
      ]
    },
    {
      "cell_type": "markdown",
      "source": [
        "#Array Manipulations"
      ],
      "metadata": {
        "id": "ixBGgynNHa_O"
      }
    },
    {
      "cell_type": "code",
      "source": [
        "array_1 = np.random.randint(10,20,(2,3))\n",
        "print(array_1)\n",
        "print(array_1.shape)"
      ],
      "metadata": {
        "colab": {
          "base_uri": "https://localhost:8080/"
        },
        "id": "bhB9TDh2Hdwo",
        "outputId": "002c1656-395f-4a4e-db26-a1ef90173771"
      },
      "execution_count": null,
      "outputs": [
        {
          "output_type": "stream",
          "name": "stdout",
          "text": [
            "[[15 19 14]\n",
            " [10 12 17]]\n",
            "(2, 3)\n"
          ]
        }
      ]
    },
    {
      "cell_type": "code",
      "source": [
        "#Transpose of an array\n",
        "\n",
        "trans = np.transpose(array_1)\n",
        "print(trans)\n",
        "print(trans.shape)"
      ],
      "metadata": {
        "colab": {
          "base_uri": "https://localhost:8080/"
        },
        "id": "Dpug_sf9HyeC",
        "outputId": "b810f51d-bf5d-4b12-c0af-0d04ddc0e5b8"
      },
      "execution_count": null,
      "outputs": [
        {
          "output_type": "stream",
          "name": "stdout",
          "text": [
            "[[15 10]\n",
            " [19 12]\n",
            " [14 17]]\n",
            "(3, 2)\n"
          ]
        }
      ]
    },
    {
      "cell_type": "code",
      "source": [
        "#Another method to transpose an array\n",
        "\n",
        "trans_2 = array_1.T\n",
        "print(trans_2)\n",
        "print(trans_2.shape)\n"
      ],
      "metadata": {
        "colab": {
          "base_uri": "https://localhost:8080/"
        },
        "id": "pI-vqS-pH_RI",
        "outputId": "6ae62622-9f8b-4657-96a3-80dba9da3ede"
      },
      "execution_count": null,
      "outputs": [
        {
          "output_type": "stream",
          "name": "stdout",
          "text": [
            "[[15 10]\n",
            " [19 12]\n",
            " [14 17]]\n",
            "(3, 2)\n"
          ]
        }
      ]
    },
    {
      "cell_type": "code",
      "source": [
        "#Reshaping an Array\n",
        "\n",
        "array_2 = np.random.randint(30,52,(2,3))\n",
        "print(array_2)\n",
        "print(array_2.shape)\n",
        "\n",
        "reshaped_array = array_2.reshape(3,2)\n",
        "print(reshaped_array)\n",
        "print(reshaped_array.shape)"
      ],
      "metadata": {
        "colab": {
          "base_uri": "https://localhost:8080/"
        },
        "id": "KqVReosfIQPh",
        "outputId": "10b0811e-c055-4f68-8b72-310bdf1a7659"
      },
      "execution_count": null,
      "outputs": [
        {
          "output_type": "stream",
          "name": "stdout",
          "text": [
            "[[32 48 36]\n",
            " [40 40 31]]\n",
            "(2, 3)\n",
            "[[32 48]\n",
            " [36 40]\n",
            " [40 31]]\n",
            "(3, 2)\n"
          ]
        }
      ]
    }
  ]
}
